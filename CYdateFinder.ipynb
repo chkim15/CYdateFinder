{
 "cells": [
  {
   "cell_type": "code",
   "execution_count": 371,
   "id": "6063a9de",
   "metadata": {},
   "outputs": [],
   "source": [
    "import pandas as pd\n",
    "from datetime import datetime, timedelta\n",
    "from dateutil.relativedelta import relativedelta\n",
    "\n",
    "from selenium import webdriver\n",
    "from selenium.webdriver.support.ui import Select\n",
    "from selenium.webdriver.common.keys import Keys\n",
    "from selenium.webdriver.common.by import By\n",
    "from selenium.webdriver.chrome.options import Options\n",
    "\n",
    "import time\n",
    "import os\n",
    "\n",
    "from selenium.webdriver.support.ui import WebDriverWait\n",
    "from selenium.webdriver.support import expected_conditions as EC"
   ]
  },
  {
   "cell_type": "code",
   "execution_count": 319,
   "id": "ac806bff",
   "metadata": {},
   "outputs": [],
   "source": [
    "# don't show chrome browser\n",
    "options = Options()\n",
    "options.add_argument(\"--headless\")"
   ]
  },
  {
   "cell_type": "code",
   "execution_count": 320,
   "id": "5af487a3",
   "metadata": {},
   "outputs": [],
   "source": [
    "if  getattr(sys, 'frozen', False): \n",
    "    chromedriver_path = os.path.join(sys._MEIPASS, \"chromedriver.exe\")\n",
    "    driver = webdriver.Chrome(chromedriver_path, options=options)\n",
    "else:\n",
    "    driver = webdriver.Chrome(options=options)\n",
    "\n",
    "################### BELOW IS FOR DESTINATION: DUBAI, DAMMAM, RIYADH #############################\n",
    "# open ONE shipper's website\n",
    "driver.get(\"https://ecomm.one-line.com/one-ecom\")\n",
    "time.sleep(3)"
   ]
  },
  {
   "cell_type": "code",
   "execution_count": 321,
   "id": "4f698dd0",
   "metadata": {},
   "outputs": [],
   "source": [
    "# close initial pop-up\n",
    "driver.find_element(By.CLASS_NAME,\"PrePromotionPopup_close-icon__WOnwe\").click()"
   ]
  },
  {
   "cell_type": "code",
   "execution_count": 322,
   "id": "c5ba65da",
   "metadata": {},
   "outputs": [],
   "source": [
    "# close cookie policy pop-up at the bottom\n",
    "driver.find_element(By.XPATH,\"//button[@class='CookiePolicy_closeButton__6sDK1']\").click()"
   ]
  },
  {
   "cell_type": "code",
   "execution_count": 323,
   "id": "9e8fa6ae",
   "metadata": {},
   "outputs": [],
   "source": [
    "# type in origin (input-based dropdown)\n",
    "origin = driver.find_element(By.ID,\"downshift-1-input\")\n",
    "origin.send_keys(\"PUSAN\")\n",
    "time.sleep(1)\n",
    "origin.send_keys(Keys.DOWN)\n",
    "origin.send_keys(Keys.RETURN)"
   ]
  },
  {
   "cell_type": "code",
   "execution_count": 324,
   "id": "4673f918",
   "metadata": {},
   "outputs": [],
   "source": [
    "# type in destination (input-based dropdown) Dubai = Jebel Ali\n",
    "destination = driver.find_element(By.ID,\"downshift-2-input\")\n",
    "destination.send_keys(\"JEBEL ALI\")\n",
    "time.sleep(1)\n",
    "destination.send_keys(Keys.DOWN)\n",
    "destination.send_keys(Keys.RETURN)"
   ]
  },
  {
   "cell_type": "code",
   "execution_count": 325,
   "id": "c1a644c1",
   "metadata": {},
   "outputs": [],
   "source": [
    "# next (how many weeks to search for)\n",
    "driver.find_element(By.XPATH,\"//div[@class='Input_inputContainer__TLu7L']/input[@data-cy='port-next-value']\").click()"
   ]
  },
  {
   "cell_type": "code",
   "execution_count": 326,
   "id": "d69c0760",
   "metadata": {},
   "outputs": [],
   "source": [
    "# select next 8 weeks\n",
    "driver.find_element(By.ID,\"next-week-value-56\").click()"
   ]
  },
  {
   "cell_type": "code",
   "execution_count": 327,
   "id": "a90b71d8",
   "metadata": {},
   "outputs": [],
   "source": [
    "# click 'Search'\n",
    "driver.find_element(By.ID,\"schedule-box-search-btn-id\").click()\n",
    "time.sleep(2)"
   ]
  },
  {
   "cell_type": "code",
   "execution_count": 328,
   "id": "be1aac3e",
   "metadata": {},
   "outputs": [],
   "source": [
    "# get departure dates\n",
    "depart_dates_get = driver.find_elements(By.XPATH,\"//div[@class='ScheduleItem_date__WLAPW'][@data-cy='new-schedule-departure']\")\n",
    "\n",
    "depart_dates = []\n",
    "for date in depart_dates_get:\n",
    "    depart_dates.append(date.text)"
   ]
  },
  {
   "cell_type": "code",
   "execution_count": 329,
   "id": "aaee0c03",
   "metadata": {},
   "outputs": [],
   "source": [
    "# get arrival dates\n",
    "arrival_dates_get = driver.find_elements(By.XPATH,\"//div[@class='ScheduleItem_date__WLAPW'][@data-cy='new-schedule-arrival']\")\n",
    "\n",
    "arrival_dates = []\n",
    "for date in arrival_dates_get:\n",
    "    arrival_dates.append(date.text)"
   ]
  },
  {
   "cell_type": "code",
   "execution_count": 330,
   "id": "8fd3f1d8",
   "metadata": {},
   "outputs": [],
   "source": [
    "# get vessel names\n",
    "vessel_names_get = driver.find_elements(By.XPATH,\"//a[@data-cy='new-schedule-vessel-name']\")\n",
    "\n",
    "vessel_names = []\n",
    "for vessel in vessel_names_get:\n",
    "    vessel_names.append(' '.join(vessel.text.split()[:-1]))"
   ]
  },
  {
   "cell_type": "code",
   "execution_count": 331,
   "id": "0e1fb533",
   "metadata": {},
   "outputs": [],
   "source": [
    "# get service lane info\n",
    "service_lanes_get = driver.find_elements(By.XPATH,\"//a[@data-cy='new-schedule-service-land-name']\")\n",
    "\n",
    "service_lanes = []\n",
    "for lane in service_lanes_get:\n",
    "    service_lanes.append(lane.text)"
   ]
  },
  {
   "cell_type": "code",
   "execution_count": 332,
   "id": "db18144e",
   "metadata": {},
   "outputs": [
    {
     "data": {
      "text/html": [
       "<div>\n",
       "<style scoped>\n",
       "    .dataframe tbody tr th:only-of-type {\n",
       "        vertical-align: middle;\n",
       "    }\n",
       "\n",
       "    .dataframe tbody tr th {\n",
       "        vertical-align: top;\n",
       "    }\n",
       "\n",
       "    .dataframe thead th {\n",
       "        text-align: right;\n",
       "    }\n",
       "</style>\n",
       "<table border=\"1\" class=\"dataframe\">\n",
       "  <thead>\n",
       "    <tr style=\"text-align: right;\">\n",
       "      <th></th>\n",
       "      <th>departure</th>\n",
       "      <th>arrival</th>\n",
       "      <th>vessel</th>\n",
       "      <th>route</th>\n",
       "    </tr>\n",
       "  </thead>\n",
       "  <tbody>\n",
       "    <tr>\n",
       "      <th>0</th>\n",
       "      <td>2023-05-29</td>\n",
       "      <td>2023-06-20</td>\n",
       "      <td>UMM SALAL</td>\n",
       "      <td>AG3</td>\n",
       "    </tr>\n",
       "    <tr>\n",
       "      <th>1</th>\n",
       "      <td>2023-06-04</td>\n",
       "      <td>2023-06-25</td>\n",
       "      <td>HMM RAON</td>\n",
       "      <td>AG3</td>\n",
       "    </tr>\n",
       "    <tr>\n",
       "      <th>2</th>\n",
       "      <td>2023-06-16</td>\n",
       "      <td>2023-07-07</td>\n",
       "      <td>AL JMELIYAH</td>\n",
       "      <td>AG3</td>\n",
       "    </tr>\n",
       "    <tr>\n",
       "      <th>3</th>\n",
       "      <td>2023-06-18</td>\n",
       "      <td>2023-07-09</td>\n",
       "      <td>BERLIN EXPRESS</td>\n",
       "      <td>AG3</td>\n",
       "    </tr>\n",
       "    <tr>\n",
       "      <th>4</th>\n",
       "      <td>2023-06-25</td>\n",
       "      <td>2023-07-16</td>\n",
       "      <td>YM WELLHEAD</td>\n",
       "      <td>AG3</td>\n",
       "    </tr>\n",
       "  </tbody>\n",
       "</table>\n",
       "</div>"
      ],
      "text/plain": [
       "    departure     arrival          vessel route\n",
       "0  2023-05-29  2023-06-20       UMM SALAL   AG3\n",
       "1  2023-06-04  2023-06-25        HMM RAON   AG3\n",
       "2  2023-06-16  2023-07-07     AL JMELIYAH   AG3\n",
       "3  2023-06-18  2023-07-09  BERLIN EXPRESS   AG3\n",
       "4  2023-06-25  2023-07-16     YM WELLHEAD   AG3"
      ]
     },
     "execution_count": 332,
     "metadata": {},
     "output_type": "execute_result"
    }
   ],
   "source": [
    "# create dataframe for Dubai port (based on ONE shipper's website)\n",
    "df_shipper_dubai = pd.DataFrame({'departure': depart_dates, 'arrival': arrival_dates, 'vessel': vessel_names, 'route': service_lanes})\n",
    "df_shipper_dubai.head()"
   ]
  },
  {
   "cell_type": "code",
   "execution_count": 333,
   "id": "3dc21a5f",
   "metadata": {},
   "outputs": [],
   "source": [
    "# open Busan port terminal website\n",
    "driver.get(\"https://www.hpnt.co.kr/infoservice/vessel/vslScheduleList.jsp\")"
   ]
  },
  {
   "cell_type": "code",
   "execution_count": 334,
   "id": "5252bf23",
   "metadata": {},
   "outputs": [],
   "source": [
    "from datetime import date\n",
    "# get dates for two months from today\n",
    "today = date.today()\n",
    "after_2months = str(today + relativedelta(months=+2))"
   ]
  },
  {
   "cell_type": "code",
   "execution_count": 335,
   "id": "36fb4fad",
   "metadata": {},
   "outputs": [],
   "source": [
    "# change ending date for search\n",
    "end_date = driver.find_element(By.ID,\"strdEdDate\")\n",
    "end_date.clear()\n",
    "end_date.send_keys(after_2months)"
   ]
  },
  {
   "cell_type": "code",
   "execution_count": 336,
   "id": "9a814727",
   "metadata": {},
   "outputs": [],
   "source": [
    "# type in route and click 'search'\n",
    "route = driver.find_element(By.ID,\"route\")\n",
    "route.send_keys(\"AG3\")\n",
    "driver.find_element(By.ID,\"submitbtn\").click()"
   ]
  },
  {
   "cell_type": "code",
   "execution_count": 337,
   "id": "582e4f36",
   "metadata": {},
   "outputs": [],
   "source": [
    "# get vessel's name\n",
    "vessel_terminal_get = driver.find_elements(By.XPATH,\"//tr[@class='color_planned']/td[5]\")\n",
    "vessel_terminal = []\n",
    "for vessel in vessel_terminal_get:\n",
    "    vessel_terminal.append(vessel.text)"
   ]
  },
  {
   "cell_type": "code",
   "execution_count": 338,
   "id": "e627fd1f",
   "metadata": {},
   "outputs": [],
   "source": [
    "# get expected anchoring date\n",
    "anchor_get = driver.find_elements(By.XPATH,\"//tr[@class='color_planned']/td[8]\")\n",
    "anchor_dates = []\n",
    "for date in anchor_get:\n",
    "    anchor_dates.append(date.text)"
   ]
  },
  {
   "cell_type": "code",
   "execution_count": 339,
   "id": "32cc8ddd",
   "metadata": {},
   "outputs": [],
   "source": [
    "# get expected departure date\n",
    "depart_terminal_get = driver.find_elements(By.XPATH,\"//tr[@class='color_planned']/td[9]\")\n",
    "depart_dates_terminal = []\n",
    "for date in depart_terminal_get:\n",
    "    depart_dates_terminal.append(date.text)"
   ]
  },
  {
   "cell_type": "code",
   "execution_count": 340,
   "id": "27640913",
   "metadata": {},
   "outputs": [
    {
     "data": {
      "text/html": [
       "<div>\n",
       "<style scoped>\n",
       "    .dataframe tbody tr th:only-of-type {\n",
       "        vertical-align: middle;\n",
       "    }\n",
       "\n",
       "    .dataframe tbody tr th {\n",
       "        vertical-align: top;\n",
       "    }\n",
       "\n",
       "    .dataframe thead th {\n",
       "        text-align: right;\n",
       "    }\n",
       "</style>\n",
       "<table border=\"1\" class=\"dataframe\">\n",
       "  <thead>\n",
       "    <tr style=\"text-align: right;\">\n",
       "      <th></th>\n",
       "      <th>vessel</th>\n",
       "      <th>anchor</th>\n",
       "      <th>departure_terminal</th>\n",
       "    </tr>\n",
       "  </thead>\n",
       "  <tbody>\n",
       "    <tr>\n",
       "      <th>0</th>\n",
       "      <td>HMM GAON</td>\n",
       "      <td>2023-05-19 17:00</td>\n",
       "      <td>2023-05-20 11:00</td>\n",
       "    </tr>\n",
       "    <tr>\n",
       "      <th>1</th>\n",
       "      <td>UMM SALAL</td>\n",
       "      <td>2023-05-26 14:00</td>\n",
       "      <td>2023-05-28 04:00</td>\n",
       "    </tr>\n",
       "    <tr>\n",
       "      <th>2</th>\n",
       "      <td>TAYMA EXPRESS</td>\n",
       "      <td>2023-05-31 09:00</td>\n",
       "      <td>2023-06-01 16:00</td>\n",
       "    </tr>\n",
       "    <tr>\n",
       "      <th>3</th>\n",
       "      <td>HMM RAON</td>\n",
       "      <td>2023-06-02 17:00</td>\n",
       "      <td>2023-06-04 07:00</td>\n",
       "    </tr>\n",
       "    <tr>\n",
       "      <th>4</th>\n",
       "      <td>AL JMELIYAH</td>\n",
       "      <td>2023-06-09 17:00</td>\n",
       "      <td>2023-06-11 07:00</td>\n",
       "    </tr>\n",
       "  </tbody>\n",
       "</table>\n",
       "</div>"
      ],
      "text/plain": [
       "          vessel            anchor departure_terminal\n",
       "0       HMM GAON  2023-05-19 17:00   2023-05-20 11:00\n",
       "1      UMM SALAL  2023-05-26 14:00   2023-05-28 04:00\n",
       "2  TAYMA EXPRESS  2023-05-31 09:00   2023-06-01 16:00\n",
       "3       HMM RAON  2023-06-02 17:00   2023-06-04 07:00\n",
       "4    AL JMELIYAH  2023-06-09 17:00   2023-06-11 07:00"
      ]
     },
     "execution_count": 340,
     "metadata": {},
     "output_type": "execute_result"
    }
   ],
   "source": [
    "# create dataframe for Dubai port (based on Busan port terminal's website)\n",
    "df_terminal_dubai = pd.DataFrame({'vessel': vessel_terminal, 'anchor': anchor_dates, 'departure_terminal': depart_dates_terminal})\n",
    "df_terminal_dubai"
   ]
  },
  {
   "cell_type": "code",
   "execution_count": 341,
   "id": "43cfa191",
   "metadata": {},
   "outputs": [
    {
     "data": {
      "text/html": [
       "<div>\n",
       "<style scoped>\n",
       "    .dataframe tbody tr th:only-of-type {\n",
       "        vertical-align: middle;\n",
       "    }\n",
       "\n",
       "    .dataframe tbody tr th {\n",
       "        vertical-align: top;\n",
       "    }\n",
       "\n",
       "    .dataframe thead th {\n",
       "        text-align: right;\n",
       "    }\n",
       "</style>\n",
       "<table border=\"1\" class=\"dataframe\">\n",
       "  <thead>\n",
       "    <tr style=\"text-align: right;\">\n",
       "      <th></th>\n",
       "      <th>departure</th>\n",
       "      <th>arrival</th>\n",
       "      <th>vessel</th>\n",
       "      <th>route</th>\n",
       "      <th>anchor</th>\n",
       "      <th>departure_terminal</th>\n",
       "    </tr>\n",
       "  </thead>\n",
       "  <tbody>\n",
       "    <tr>\n",
       "      <th>0</th>\n",
       "      <td>2023-05-29</td>\n",
       "      <td>2023-06-20</td>\n",
       "      <td>UMM SALAL</td>\n",
       "      <td>AG3</td>\n",
       "      <td>2023-05-26 14:00</td>\n",
       "      <td>2023-05-28 04:00</td>\n",
       "    </tr>\n",
       "    <tr>\n",
       "      <th>1</th>\n",
       "      <td>2023-06-04</td>\n",
       "      <td>2023-06-25</td>\n",
       "      <td>HMM RAON</td>\n",
       "      <td>AG3</td>\n",
       "      <td>2023-06-02 17:00</td>\n",
       "      <td>2023-06-04 07:00</td>\n",
       "    </tr>\n",
       "    <tr>\n",
       "      <th>2</th>\n",
       "      <td>2023-06-16</td>\n",
       "      <td>2023-07-07</td>\n",
       "      <td>AL JMELIYAH</td>\n",
       "      <td>AG3</td>\n",
       "      <td>2023-06-09 17:00</td>\n",
       "      <td>2023-06-11 07:00</td>\n",
       "    </tr>\n",
       "    <tr>\n",
       "      <th>3</th>\n",
       "      <td>2023-06-18</td>\n",
       "      <td>2023-07-09</td>\n",
       "      <td>BERLIN EXPRESS</td>\n",
       "      <td>AG3</td>\n",
       "      <td>NaN</td>\n",
       "      <td>NaN</td>\n",
       "    </tr>\n",
       "    <tr>\n",
       "      <th>4</th>\n",
       "      <td>2023-06-25</td>\n",
       "      <td>2023-07-16</td>\n",
       "      <td>YM WELLHEAD</td>\n",
       "      <td>AG3</td>\n",
       "      <td>NaN</td>\n",
       "      <td>NaN</td>\n",
       "    </tr>\n",
       "    <tr>\n",
       "      <th>5</th>\n",
       "      <td>2023-07-02</td>\n",
       "      <td>2023-07-23</td>\n",
       "      <td>UMM QARN</td>\n",
       "      <td>AG3</td>\n",
       "      <td>NaN</td>\n",
       "      <td>NaN</td>\n",
       "    </tr>\n",
       "    <tr>\n",
       "      <th>6</th>\n",
       "      <td>2023-07-09</td>\n",
       "      <td>2023-07-30</td>\n",
       "      <td>HMM HANUL</td>\n",
       "      <td>AG3</td>\n",
       "      <td>NaN</td>\n",
       "      <td>NaN</td>\n",
       "    </tr>\n",
       "  </tbody>\n",
       "</table>\n",
       "</div>"
      ],
      "text/plain": [
       "    departure     arrival          vessel route            anchor  \\\n",
       "0  2023-05-29  2023-06-20       UMM SALAL   AG3  2023-05-26 14:00   \n",
       "1  2023-06-04  2023-06-25        HMM RAON   AG3  2023-06-02 17:00   \n",
       "2  2023-06-16  2023-07-07     AL JMELIYAH   AG3  2023-06-09 17:00   \n",
       "3  2023-06-18  2023-07-09  BERLIN EXPRESS   AG3               NaN   \n",
       "4  2023-06-25  2023-07-16     YM WELLHEAD   AG3               NaN   \n",
       "5  2023-07-02  2023-07-23        UMM QARN   AG3               NaN   \n",
       "6  2023-07-09  2023-07-30       HMM HANUL   AG3               NaN   \n",
       "\n",
       "  departure_terminal  \n",
       "0   2023-05-28 04:00  \n",
       "1   2023-06-04 07:00  \n",
       "2   2023-06-11 07:00  \n",
       "3                NaN  \n",
       "4                NaN  \n",
       "5                NaN  \n",
       "6                NaN  "
      ]
     },
     "execution_count": 341,
     "metadata": {},
     "output_type": "execute_result"
    }
   ],
   "source": [
    "# merge ONE shipper's and Busan terminal's info into one DataFrame\n",
    "df_dubai = df_shipper_dubai.merge(df_terminal_dubai, on='vessel', how='left')\n",
    "df_dubai"
   ]
  },
  {
   "cell_type": "code",
   "execution_count": 342,
   "id": "562e4cb4",
   "metadata": {},
   "outputs": [],
   "source": [
    "################### BELOW IS FOR DESTINATION: JEDDAH ############################\n",
    "# open ONE shipper's website\n",
    "driver.get(\"https://ecomm.one-line.com/one-ecom\")\n",
    "time.sleep(3)"
   ]
  },
  {
   "cell_type": "code",
   "execution_count": 343,
   "id": "4f09162a",
   "metadata": {},
   "outputs": [],
   "source": [
    "# type in origin (input-based dropdown)\n",
    "origin = driver.find_element(By.ID,\"downshift-1-input\")\n",
    "origin.send_keys(\"PUSAN\")\n",
    "time.sleep(1)\n",
    "origin.send_keys(Keys.DOWN)\n",
    "origin.send_keys(Keys.RETURN)"
   ]
  },
  {
   "cell_type": "code",
   "execution_count": 344,
   "id": "3081dd5f",
   "metadata": {},
   "outputs": [],
   "source": [
    "# type in destination (input-based dropdown)\n",
    "destination = driver.find_element(By.ID,\"downshift-2-input\")\n",
    "destination.send_keys(\"JEDDAH\")\n",
    "time.sleep(1)\n",
    "destination.send_keys(Keys.DOWN)\n",
    "destination.send_keys(Keys.RETURN)"
   ]
  },
  {
   "cell_type": "code",
   "execution_count": 345,
   "id": "0577cb7e",
   "metadata": {},
   "outputs": [],
   "source": [
    "# next (how many weeks to search for)\n",
    "driver.find_element(By.XPATH,\"//div[@class='Input_inputContainer__TLu7L']/input[@data-cy='port-next-value']\").click()"
   ]
  },
  {
   "cell_type": "code",
   "execution_count": 346,
   "id": "4b40388c",
   "metadata": {},
   "outputs": [],
   "source": [
    "# select next 8 weeks\n",
    "driver.find_element(By.ID,\"next-week-value-56\").click()"
   ]
  },
  {
   "cell_type": "code",
   "execution_count": 347,
   "id": "9a912bfc",
   "metadata": {},
   "outputs": [],
   "source": [
    "# click 'Search'\n",
    "driver.find_element(By.ID,\"schedule-box-search-btn-id\").click()\n",
    "time.sleep(2)"
   ]
  },
  {
   "cell_type": "code",
   "execution_count": 348,
   "id": "a629fe59",
   "metadata": {},
   "outputs": [],
   "source": [
    "# get departure dates\n",
    "depart_dates_get = driver.find_elements(By.XPATH,\"//div[@class='ScheduleItem_date__WLAPW'][@data-cy='new-schedule-departure']\")\n",
    "\n",
    "depart_dates = []\n",
    "for date in depart_dates_get:\n",
    "    depart_dates.append(date.text)"
   ]
  },
  {
   "cell_type": "code",
   "execution_count": 349,
   "id": "7791d282",
   "metadata": {},
   "outputs": [],
   "source": [
    "# get arrival dates\n",
    "arrival_dates_get = driver.find_elements(By.XPATH,\"//div[@class='ScheduleItem_date__WLAPW'][@data-cy='new-schedule-arrival']\")\n",
    "\n",
    "arrival_dates = []\n",
    "for date in arrival_dates_get:\n",
    "    arrival_dates.append(date.text)"
   ]
  },
  {
   "cell_type": "code",
   "execution_count": 350,
   "id": "7630998f",
   "metadata": {},
   "outputs": [],
   "source": [
    "# get vessel's names\n",
    "vessel_names_get = driver.find_elements(By.XPATH,\"//a[@data-cy='new-schedule-vessel-name']\")\n",
    "\n",
    "vessel_names = []\n",
    "for vessel in vessel_names_get:\n",
    "    vessel_names.append(' '.join(vessel.text.split()[:-1]))"
   ]
  },
  {
   "cell_type": "code",
   "execution_count": 351,
   "id": "4d56000b",
   "metadata": {},
   "outputs": [],
   "source": [
    "# get service lane info\n",
    "service_lanes_get = driver.find_elements(By.XPATH,\"//a[@data-cy='new-schedule-service-land-name']\")\n",
    "\n",
    "service_lanes = []\n",
    "for lane in service_lanes_get:\n",
    "    service_lanes.append(lane.text)"
   ]
  },
  {
   "cell_type": "code",
   "execution_count": 352,
   "id": "00860f06",
   "metadata": {},
   "outputs": [
    {
     "data": {
      "text/html": [
       "<div>\n",
       "<style scoped>\n",
       "    .dataframe tbody tr th:only-of-type {\n",
       "        vertical-align: middle;\n",
       "    }\n",
       "\n",
       "    .dataframe tbody tr th {\n",
       "        vertical-align: top;\n",
       "    }\n",
       "\n",
       "    .dataframe thead th {\n",
       "        text-align: right;\n",
       "    }\n",
       "</style>\n",
       "<table border=\"1\" class=\"dataframe\">\n",
       "  <thead>\n",
       "    <tr style=\"text-align: right;\">\n",
       "      <th></th>\n",
       "      <th>departure</th>\n",
       "      <th>arrival</th>\n",
       "      <th>vessel</th>\n",
       "      <th>route</th>\n",
       "    </tr>\n",
       "  </thead>\n",
       "  <tbody>\n",
       "    <tr>\n",
       "      <th>0</th>\n",
       "      <td>2023-05-24</td>\n",
       "      <td>2023-06-17</td>\n",
       "      <td>YM MILESTONE</td>\n",
       "      <td>AR1</td>\n",
       "    </tr>\n",
       "    <tr>\n",
       "      <th>1</th>\n",
       "      <td>2023-05-26</td>\n",
       "      <td>2023-06-20</td>\n",
       "      <td>ANTWERPEN EXPRESS</td>\n",
       "      <td>MD3</td>\n",
       "    </tr>\n",
       "    <tr>\n",
       "      <th>2</th>\n",
       "      <td>2023-05-31</td>\n",
       "      <td>2023-06-24</td>\n",
       "      <td>WAN HAI 613</td>\n",
       "      <td>AR1</td>\n",
       "    </tr>\n",
       "    <tr>\n",
       "      <th>3</th>\n",
       "      <td>2023-06-09</td>\n",
       "      <td>2023-07-04</td>\n",
       "      <td>YM WONDERLAND</td>\n",
       "      <td>MD3</td>\n",
       "    </tr>\n",
       "    <tr>\n",
       "      <th>4</th>\n",
       "      <td>2023-06-10</td>\n",
       "      <td>2023-07-01</td>\n",
       "      <td>YM MODESTY</td>\n",
       "      <td>AR1</td>\n",
       "    </tr>\n",
       "    <tr>\n",
       "      <th>5</th>\n",
       "      <td>2023-06-14</td>\n",
       "      <td>2023-07-08</td>\n",
       "      <td>YM PLUM</td>\n",
       "      <td>AR1</td>\n",
       "    </tr>\n",
       "    <tr>\n",
       "      <th>6</th>\n",
       "      <td>2023-06-16</td>\n",
       "      <td>2023-07-11</td>\n",
       "      <td>PARIS EXPRESS</td>\n",
       "      <td>MD3</td>\n",
       "    </tr>\n",
       "    <tr>\n",
       "      <th>7</th>\n",
       "      <td>2023-06-21</td>\n",
       "      <td>2023-07-15</td>\n",
       "      <td>YM COSMOS</td>\n",
       "      <td>AR1</td>\n",
       "    </tr>\n",
       "    <tr>\n",
       "      <th>8</th>\n",
       "      <td>2023-06-23</td>\n",
       "      <td>2023-07-18</td>\n",
       "      <td>LEVERKUSEN EXPRESS</td>\n",
       "      <td>MD3</td>\n",
       "    </tr>\n",
       "    <tr>\n",
       "      <th>9</th>\n",
       "      <td>2023-07-01</td>\n",
       "      <td>2023-07-25</td>\n",
       "      <td>YM WINDOW</td>\n",
       "      <td>MD3</td>\n",
       "    </tr>\n",
       "  </tbody>\n",
       "</table>\n",
       "</div>"
      ],
      "text/plain": [
       "    departure     arrival              vessel route\n",
       "0  2023-05-24  2023-06-17        YM MILESTONE   AR1\n",
       "1  2023-05-26  2023-06-20   ANTWERPEN EXPRESS   MD3\n",
       "2  2023-05-31  2023-06-24         WAN HAI 613   AR1\n",
       "3  2023-06-09  2023-07-04       YM WONDERLAND   MD3\n",
       "4  2023-06-10  2023-07-01          YM MODESTY   AR1\n",
       "5  2023-06-14  2023-07-08             YM PLUM   AR1\n",
       "6  2023-06-16  2023-07-11       PARIS EXPRESS   MD3\n",
       "7  2023-06-21  2023-07-15           YM COSMOS   AR1\n",
       "8  2023-06-23  2023-07-18  LEVERKUSEN EXPRESS   MD3\n",
       "9  2023-07-01  2023-07-25           YM WINDOW   MD3"
      ]
     },
     "execution_count": 352,
     "metadata": {},
     "output_type": "execute_result"
    }
   ],
   "source": [
    "# create dataframe for Jeddah port (based on ONE shipper's website)\n",
    "df_shipper_jeddah = pd.DataFrame({'departure': depart_dates, 'arrival': arrival_dates, 'vessel': vessel_names, 'route': service_lanes})\n",
    "df_shipper_jeddah"
   ]
  },
  {
   "cell_type": "code",
   "execution_count": 353,
   "id": "34f4f50b",
   "metadata": {},
   "outputs": [],
   "source": [
    "# open Busan port terminal website\n",
    "driver.get(\"http://www.hjnc.co.kr/esvc/vessel/berthScheduleT\")"
   ]
  },
  {
   "cell_type": "code",
   "execution_count": 354,
   "id": "51c87ee7",
   "metadata": {},
   "outputs": [],
   "source": [
    "# click 'manual input'\n",
    "driver.find_element(By.XPATH,\"//input[@name='chkPeriod'][@value='mm']\").click()"
   ]
  },
  {
   "cell_type": "code",
   "execution_count": 355,
   "id": "65573971",
   "metadata": {},
   "outputs": [],
   "source": [
    "# change ending date to two months laterfor search\n",
    "month = driver.find_element(By.XPATH,\"//select[@id='selEndMonth']\")\n",
    "month.send_keys(Keys.DOWN)\n",
    "month.send_keys(Keys.DOWN)"
   ]
  },
  {
   "cell_type": "code",
   "execution_count": 356,
   "id": "9566ce58",
   "metadata": {},
   "outputs": [],
   "source": [
    "# search for 'MD3' service lane (Jeddah has two lanes: MD3 and AR1)\n",
    "driver.find_element(By.ID,\"searchRoute\").send_keys(\"MD3\")\n",
    "driver.find_element(By.ID,\"btnSearch\").click()\n",
    "time.sleep(2)"
   ]
  },
  {
   "cell_type": "code",
   "execution_count": 357,
   "id": "3c993c8a",
   "metadata": {},
   "outputs": [],
   "source": [
    "# get vessel names, anchor dates, and departure dates\n",
    "md3_get_vessel = driver.find_elements(By.XPATH,\"//tbody/tr[@role='row']/td[5]\")\n",
    "md3_get_anchor = driver.find_elements(By.XPATH,\"//tbody/tr[@role='row']/td[9]\")\n",
    "md3_get_depart = driver.find_elements(By.XPATH,\"//tbody/tr[@role='row']/td[10]\")\n",
    "\n",
    "vessel_names = []\n",
    "anchor_dates = []\n",
    "depart_dates = []\n",
    "\n",
    "for vessel in md3_get_vessel:\n",
    "    vessel_names.append(vessel.text)\n",
    "    \n",
    "for date in md3_get_anchor:\n",
    "    anchor_dates.append(date.text)\n",
    "    \n",
    "for date in md3_get_depart:\n",
    "    depart_dates.append(date.text)"
   ]
  },
  {
   "cell_type": "code",
   "execution_count": 358,
   "id": "0f8f30ed",
   "metadata": {},
   "outputs": [
    {
     "data": {
      "text/html": [
       "<div>\n",
       "<style scoped>\n",
       "    .dataframe tbody tr th:only-of-type {\n",
       "        vertical-align: middle;\n",
       "    }\n",
       "\n",
       "    .dataframe tbody tr th {\n",
       "        vertical-align: top;\n",
       "    }\n",
       "\n",
       "    .dataframe thead th {\n",
       "        text-align: right;\n",
       "    }\n",
       "</style>\n",
       "<table border=\"1\" class=\"dataframe\">\n",
       "  <thead>\n",
       "    <tr style=\"text-align: right;\">\n",
       "      <th></th>\n",
       "      <th>vessel</th>\n",
       "      <th>anchor</th>\n",
       "      <th>departure_terminal</th>\n",
       "    </tr>\n",
       "  </thead>\n",
       "  <tbody>\n",
       "    <tr>\n",
       "      <th>0</th>\n",
       "      <td>YM WORLD</td>\n",
       "      <td>2023-05-18 13:05</td>\n",
       "      <td>2023-05-19 17:00</td>\n",
       "    </tr>\n",
       "    <tr>\n",
       "      <th>1</th>\n",
       "      <td>ANTWERPEN EXPRESS</td>\n",
       "      <td>2023-05-24 22:00</td>\n",
       "      <td>2023-05-25 10:00</td>\n",
       "    </tr>\n",
       "    <tr>\n",
       "      <th>2</th>\n",
       "      <td>YM WELLSPRING</td>\n",
       "      <td>2023-05-26 17:00</td>\n",
       "      <td>2023-05-27 21:00</td>\n",
       "    </tr>\n",
       "    <tr>\n",
       "      <th>3</th>\n",
       "      <td>YM WONDERLAND</td>\n",
       "      <td>2023-06-07 17:00</td>\n",
       "      <td>2023-06-08 21:00</td>\n",
       "    </tr>\n",
       "    <tr>\n",
       "      <th>4</th>\n",
       "      <td>PARIS EXPRESS</td>\n",
       "      <td>2023-06-14 17:00</td>\n",
       "      <td>2023-06-15 21:00</td>\n",
       "    </tr>\n",
       "    <tr>\n",
       "      <th>5</th>\n",
       "      <td>LEVERKUSEN EXPRESS</td>\n",
       "      <td>2023-06-21 17:00</td>\n",
       "      <td>2023-06-22 21:00</td>\n",
       "    </tr>\n",
       "    <tr>\n",
       "      <th>6</th>\n",
       "      <td>YM WINDOW</td>\n",
       "      <td>2023-06-29 17:00</td>\n",
       "      <td>2023-06-30 21:00</td>\n",
       "    </tr>\n",
       "  </tbody>\n",
       "</table>\n",
       "</div>"
      ],
      "text/plain": [
       "               vessel            anchor departure_terminal\n",
       "0            YM WORLD  2023-05-18 13:05   2023-05-19 17:00\n",
       "1   ANTWERPEN EXPRESS  2023-05-24 22:00   2023-05-25 10:00\n",
       "2       YM WELLSPRING  2023-05-26 17:00   2023-05-27 21:00\n",
       "3       YM WONDERLAND  2023-06-07 17:00   2023-06-08 21:00\n",
       "4       PARIS EXPRESS  2023-06-14 17:00   2023-06-15 21:00\n",
       "5  LEVERKUSEN EXPRESS  2023-06-21 17:00   2023-06-22 21:00\n",
       "6           YM WINDOW  2023-06-29 17:00   2023-06-30 21:00"
      ]
     },
     "execution_count": 358,
     "metadata": {},
     "output_type": "execute_result"
    }
   ],
   "source": [
    "# create dataframe for Jeddah port, 'MD3' lane (based on Busan port terminal's website)\n",
    "df_terminal_md3 = pd.DataFrame({'vessel': vessel_names, 'anchor': anchor_dates, 'departure_terminal': depart_dates})\n",
    "df_terminal_md3"
   ]
  },
  {
   "cell_type": "code",
   "execution_count": 359,
   "id": "bd036238",
   "metadata": {},
   "outputs": [],
   "source": [
    "# now search for 'AR1' lane \n",
    "driver.find_element(By.ID,\"searchRoute\").clear()\n",
    "driver.find_element(By.ID,\"searchRoute\").send_keys(\"AR1\")\n",
    "driver.find_element(By.ID,\"btnSearch\").click()"
   ]
  },
  {
   "cell_type": "code",
   "execution_count": 360,
   "id": "e98423e6",
   "metadata": {},
   "outputs": [],
   "source": [
    "# get vessel names, anchor dates, and departure dates\n",
    "ar1_get_vessel = driver.find_elements(By.XPATH,\"//tbody/tr[@role='row']/td[5]\")\n",
    "ar1_get_anchor = driver.find_elements(By.XPATH,\"//tbody/tr[@role='row']/td[9]\")\n",
    "ar1_get_depart = driver.find_elements(By.XPATH,\"//tbody/tr[@role='row']/td[10]\")\n",
    "\n",
    "vessel_names = []\n",
    "anchor_dates = []\n",
    "depart_dates = []\n",
    "\n",
    "for vessel in ar1_get_vessel:\n",
    "    vessel_names.append(vessel.text)\n",
    "    \n",
    "for date in ar1_get_anchor:\n",
    "    anchor_dates.append(date.text)\n",
    "    \n",
    "for date in ar1_get_depart:\n",
    "    depart_dates.append(date.text)"
   ]
  },
  {
   "cell_type": "code",
   "execution_count": 361,
   "id": "0411b674",
   "metadata": {},
   "outputs": [
    {
     "data": {
      "text/html": [
       "<div>\n",
       "<style scoped>\n",
       "    .dataframe tbody tr th:only-of-type {\n",
       "        vertical-align: middle;\n",
       "    }\n",
       "\n",
       "    .dataframe tbody tr th {\n",
       "        vertical-align: top;\n",
       "    }\n",
       "\n",
       "    .dataframe thead th {\n",
       "        text-align: right;\n",
       "    }\n",
       "</style>\n",
       "<table border=\"1\" class=\"dataframe\">\n",
       "  <thead>\n",
       "    <tr style=\"text-align: right;\">\n",
       "      <th></th>\n",
       "      <th>vessel</th>\n",
       "      <th>anchor</th>\n",
       "      <th>departure_terminal</th>\n",
       "    </tr>\n",
       "  </thead>\n",
       "  <tbody>\n",
       "    <tr>\n",
       "      <th>0</th>\n",
       "      <td>YM MILESTONE</td>\n",
       "      <td>2023-05-24 00:00</td>\n",
       "      <td>2023-05-24 16:00</td>\n",
       "    </tr>\n",
       "    <tr>\n",
       "      <th>1</th>\n",
       "      <td>WAN HAI 613</td>\n",
       "      <td>2023-05-31 00:00</td>\n",
       "      <td>2023-05-31 16:00</td>\n",
       "    </tr>\n",
       "    <tr>\n",
       "      <th>2</th>\n",
       "      <td>YM MODESTY</td>\n",
       "      <td>2023-06-07 00:00</td>\n",
       "      <td>2023-06-07 14:00</td>\n",
       "    </tr>\n",
       "    <tr>\n",
       "      <th>3</th>\n",
       "      <td>YM PLUM</td>\n",
       "      <td>2023-06-13 23:00</td>\n",
       "      <td>2023-06-14 15:00</td>\n",
       "    </tr>\n",
       "    <tr>\n",
       "      <th>4</th>\n",
       "      <td>YM COSMOS</td>\n",
       "      <td>2023-06-21 00:00</td>\n",
       "      <td>2023-06-21 14:00</td>\n",
       "    </tr>\n",
       "  </tbody>\n",
       "</table>\n",
       "</div>"
      ],
      "text/plain": [
       "         vessel            anchor departure_terminal\n",
       "0  YM MILESTONE  2023-05-24 00:00   2023-05-24 16:00\n",
       "1   WAN HAI 613  2023-05-31 00:00   2023-05-31 16:00\n",
       "2    YM MODESTY  2023-06-07 00:00   2023-06-07 14:00\n",
       "3       YM PLUM  2023-06-13 23:00   2023-06-14 15:00\n",
       "4     YM COSMOS  2023-06-21 00:00   2023-06-21 14:00"
      ]
     },
     "execution_count": 361,
     "metadata": {},
     "output_type": "execute_result"
    }
   ],
   "source": [
    "# create dataframe for Jeddah port, 'AR1' lane (based on Busan port terminal's website)\n",
    "df_terminal_ar1 = pd.DataFrame({'vessel': vessel_names, 'anchor': anchor_dates, 'departure_terminal': depart_dates})\n",
    "df_terminal_ar1"
   ]
  },
  {
   "cell_type": "code",
   "execution_count": 362,
   "id": "cc024f5a",
   "metadata": {},
   "outputs": [],
   "source": [
    "# concatenate 'MD3' and 'AR1' DataFrames\n",
    "df_concat = pd.concat([df_terminal_md3, df_terminal_ar1])"
   ]
  },
  {
   "cell_type": "code",
   "execution_count": 363,
   "id": "fafa1dee",
   "metadata": {},
   "outputs": [],
   "source": [
    "# merge ONE shipper's and Busan terminal's info into one DataFrame\n",
    "df_jeddah = df_shipper_jeddah.merge(df_concat, on='vessel', how='left')"
   ]
  },
  {
   "cell_type": "code",
   "execution_count": 364,
   "id": "3f1858b5",
   "metadata": {},
   "outputs": [],
   "source": [
    "# change 'anchor' column into datetime\n",
    "df_dubai['anchor'] = pd.to_datetime(df_dubai['anchor'])\n",
    "df_jeddah['anchor'] = pd.to_datetime(df_jeddah['anchor'])"
   ]
  },
  {
   "cell_type": "code",
   "execution_count": 365,
   "id": "4bdb7c65",
   "metadata": {},
   "outputs": [],
   "source": [
    "# containers can enter CY three days before the anchor date, so create new column for it\n",
    "df_dubai['CY_entry'] = df_dubai['anchor'].dt.date - timedelta(days=3)\n",
    "df_jeddah['CY_entry'] = df_jeddah['anchor'].dt.date - timedelta(days=3)"
   ]
  },
  {
   "cell_type": "code",
   "execution_count": 366,
   "id": "e0b4f260",
   "metadata": {},
   "outputs": [],
   "source": [
    "# convert DataFrames to excel\n",
    "writer =  pd.ExcelWriter('ship_schedule.xlsx')\n",
    "df_dubai.to_excel(writer, sheet_name='dubai', index=False)\n",
    "df_jeddah.to_excel(writer, sheet_name='jeddah', index=False)"
   ]
  },
  {
   "cell_type": "code",
   "execution_count": 367,
   "id": "afd9cb44",
   "metadata": {},
   "outputs": [
    {
     "name": "stderr",
     "output_type": "stream",
     "text": [
      "C:\\Users\\USER\\anaconda3\\lib\\site-packages\\xlsxwriter\\workbook.py:339: UserWarning: Calling close() on already closed file.\n",
      "  warn(\"Calling close() on already closed file.\")\n"
     ]
    }
   ],
   "source": [
    "# set column length and alignment for better readability\n",
    "for column in df_dubai:\n",
    "    column_length = max(df_dubai[column].astype(str).map(len).max(), len(str(column)))\n",
    "    col_idx = df_dubai.columns.get_loc(column)\n",
    "    writer.sheets['dubai'].set_column(col_idx, col_idx, column_length+3)\n",
    "    \n",
    "for column in df_jeddah:\n",
    "    column_length = max(df_jeddah[column].astype(str).map(len).max(), len(str(column)))\n",
    "    col_idx = df_jeddah.columns.get_loc(column)\n",
    "    writer.sheets['jeddah'].set_column(col_idx, col_idx, column_length+3)\n",
    "\n",
    "workbook = writer.book\n",
    "worksheet1 = writer.sheets[\"dubai\"]\n",
    "worksheet2 = writer.sheets[\"jeddah\"]\n",
    "\n",
    "fmt = workbook.add_format()\n",
    "fmt.set_align('right')\n",
    "\n",
    "worksheet1.set_column('F:F', 22, fmt)\n",
    "worksheet2.set_column('F:F', 22, fmt)\n",
    "    \n",
    "writer.save()\n",
    "writer.close()"
   ]
  },
  {
   "cell_type": "code",
   "execution_count": 368,
   "id": "6f04b947",
   "metadata": {},
   "outputs": [],
   "source": [
    "# open excel file\n",
    "os.system(\"start EXCEL.EXE ship_schedule.xlsx\");"
   ]
  },
  {
   "cell_type": "code",
   "execution_count": null,
   "id": "cecfd1e6",
   "metadata": {},
   "outputs": [],
   "source": []
  }
 ],
 "metadata": {
  "kernelspec": {
   "display_name": "Python 3 (ipykernel)",
   "language": "python",
   "name": "python3"
  },
  "language_info": {
   "codemirror_mode": {
    "name": "ipython",
    "version": 3
   },
   "file_extension": ".py",
   "mimetype": "text/x-python",
   "name": "python",
   "nbconvert_exporter": "python",
   "pygments_lexer": "ipython3",
   "version": "3.9.13"
  }
 },
 "nbformat": 4,
 "nbformat_minor": 5
}
